{
 "cells": [
  {
   "cell_type": "code",
   "execution_count": 1,
   "id": "cooperative-priority",
   "metadata": {},
   "outputs": [
    {
     "data": {
      "text/plain": [
       "'C:\\\\Users\\\\Артем\\\\Desktop\\\\Untitled Folder'"
      ]
     },
     "execution_count": 1,
     "metadata": {},
     "output_type": "execute_result"
    }
   ],
   "source": [
    "import os\n",
    "os.getcwd()"
   ]
  },
  {
   "cell_type": "markdown",
   "id": "creative-sensitivity",
   "metadata": {},
   "source": [
    "Загрузить данные в python (проверить тип – Series). "
   ]
  },
  {
   "cell_type": "code",
   "execution_count": 3,
   "id": "legal-consensus",
   "metadata": {},
   "outputs": [
    {
     "name": "stdout",
     "output_type": "stream",
     "text": [
      "              y\n",
      "0   2326.992750\n",
      "1   3280.243902\n",
      "2   4262.942927\n",
      "3   4486.553221\n",
      "4   3106.108202\n",
      "5   4175.319767\n",
      "6   6094.828014\n",
      "7   3631.190276\n",
      "8   5320.737085\n",
      "9   5898.267258\n",
      "10  2307.775632\n",
      "11  4958.902947\n",
      "12  7920.680126\n",
      "13  4791.462545\n",
      "14  6945.315162\n",
      "15  4612.459574\n",
      "16  3799.371292\n",
      "17  3233.470508\n",
      "18  5125.122190\n",
      "19  3805.444444\n",
      "20  4084.060953\n",
      "21  5905.781452\n",
      "22  5843.902439\n",
      "23  6870.840829\n",
      "24  4785.758934\n",
      "25  6679.162607\n",
      "26  4735.791229\n",
      "27  3370.177074\n",
      "28  5730.788447\n",
      "29  7926.314137\n",
      "30  4564.028284\n",
      "31  7024.566336\n",
      "32  8218.414554\n",
      "33  5558.597670\n",
      "34  4781.242733\n",
      "35  4699.342105\n",
      "36  5137.387606\n",
      "37  6312.665709\n",
      "38  5618.713087\n"
     ]
    },
    {
     "data": {
      "text/plain": [
       "pandas.core.series.Series"
      ]
     },
     "execution_count": 3,
     "metadata": {},
     "output_type": "execute_result"
    }
   ],
   "source": [
    "import pandas as pd\n",
    "\n",
    "df = pd.read_excel('variant.xlsx',sheet_name='7')\n",
    "print(df)\n",
    "n = pd.Series(df['y'])\n",
    "type(n)"
   ]
  },
  {
   "cell_type": "markdown",
   "id": "junior-argument",
   "metadata": {},
   "source": [
    "Вывести на печать 5 значение."
   ]
  },
  {
   "cell_type": "code",
   "execution_count": 4,
   "id": "moderate-vault",
   "metadata": {},
   "outputs": [
    {
     "name": "stdout",
     "output_type": "stream",
     "text": [
      "3106.1082024432812\n"
     ]
    }
   ],
   "source": [
    "print(n[4])"
   ]
  },
  {
   "cell_type": "markdown",
   "id": "increasing-variable",
   "metadata": {},
   "source": [
    "Вывести диапазон с 6 по 25 значение"
   ]
  },
  {
   "cell_type": "code",
   "execution_count": 5,
   "id": "liable-agreement",
   "metadata": {},
   "outputs": [
    {
     "name": "stdout",
     "output_type": "stream",
     "text": [
      "6     6094.828014\n",
      "7     3631.190276\n",
      "8     5320.737085\n",
      "9     5898.267258\n",
      "10    2307.775632\n",
      "11    4958.902947\n",
      "12    7920.680126\n",
      "13    4791.462545\n",
      "14    6945.315162\n",
      "15    4612.459574\n",
      "16    3799.371292\n",
      "17    3233.470508\n",
      "18    5125.122190\n",
      "19    3805.444444\n",
      "20    4084.060953\n",
      "21    5905.781452\n",
      "22    5843.902439\n",
      "23    6870.840829\n",
      "24    4785.758934\n",
      "25    6679.162607\n",
      "Name: y, dtype: float64\n"
     ]
    }
   ],
   "source": [
    "print(n[6:26])"
   ]
  },
  {
   "cell_type": "markdown",
   "id": "responsible-theta",
   "metadata": {},
   "source": [
    "Найти минимальное и максимальное значение по совокупности"
   ]
  },
  {
   "cell_type": "code",
   "execution_count": 6,
   "id": "acquired-latino",
   "metadata": {},
   "outputs": [
    {
     "name": "stdout",
     "output_type": "stream",
     "text": [
      "min:  2307.7756315789475\n",
      "max:  8218.414553979024\n"
     ]
    }
   ],
   "source": [
    "xmax = n.max()\n",
    "xmin = n.min()\n",
    "print('min: ', xmin)\n",
    "print('max: ', xmax)"
   ]
  },
  {
   "cell_type": "markdown",
   "id": "brown-palestine",
   "metadata": {},
   "source": [
    " Отсортировать данные по возрастанию (Series.sort_values) и построить огиву (график отсортированных значений). "
   ]
  },
  {
   "cell_type": "code",
   "execution_count": 10,
   "id": "extensive-reform",
   "metadata": {},
   "outputs": [
    {
     "data": {
      "text/plain": [
       "10    2307.775632\n",
       "0     2326.992750\n",
       "4     3106.108202\n",
       "17    3233.470508\n",
       "1     3280.243902\n",
       "27    3370.177074\n",
       "7     3631.190276\n",
       "16    3799.371292\n",
       "19    3805.444444\n",
       "20    4084.060953\n",
       "5     4175.319767\n",
       "2     4262.942927\n",
       "3     4486.553221\n",
       "30    4564.028284\n",
       "15    4612.459574\n",
       "35    4699.342105\n",
       "26    4735.791229\n",
       "34    4781.242733\n",
       "24    4785.758934\n",
       "13    4791.462545\n",
       "11    4958.902947\n",
       "18    5125.122190\n",
       "36    5137.387606\n",
       "8     5320.737085\n",
       "33    5558.597670\n",
       "38    5618.713087\n",
       "28    5730.788447\n",
       "22    5843.902439\n",
       "9     5898.267258\n",
       "21    5905.781452\n",
       "6     6094.828014\n",
       "37    6312.665709\n",
       "25    6679.162607\n",
       "23    6870.840829\n",
       "14    6945.315162\n",
       "31    7024.566336\n",
       "12    7920.680126\n",
       "29    7926.314137\n",
       "32    8218.414554\n",
       "Name: y, dtype: float64"
      ]
     },
     "execution_count": 10,
     "metadata": {},
     "output_type": "execute_result"
    }
   ],
   "source": [
    "n.sort_values()"
   ]
  },
  {
   "cell_type": "code",
   "execution_count": 9,
   "id": "monetary-congress",
   "metadata": {},
   "outputs": [
    {
     "data": {
      "text/plain": [
       "[<matplotlib.lines.Line2D at 0x2d6b0a30dd8>]"
      ]
     },
     "execution_count": 9,
     "metadata": {},
     "output_type": "execute_result"
    },
    {
     "data": {
      "image/png": "[encoded data removed]",
      "text/plain": [
       "<Figure size 432x288 with 1 Axes>"
      ]
     },
     "metadata": {
      "needs_background": "light"
     },
     "output_type": "display_data"
    }
   ],
   "source": [
    "import matplotlib.pyplot as plt\n",
    "plt.plot(n.sort_values().values)"
   ]
  },
  {
   "cell_type": "markdown",
   "id": "seventh-disposition",
   "metadata": {},
   "source": [
    "Рассчитать среднюю по совокупности. "
   ]
  },
  {
   "cell_type": "code",
   "execution_count": 11,
   "id": "abstract-tooth",
   "metadata": {},
   "outputs": [
    {
     "data": {
      "text/plain": [
       "5075.146769412716"
      ]
     },
     "execution_count": 11,
     "metadata": {},
     "output_type": "execute_result"
    }
   ],
   "source": [
    "average = n.mean()\n",
    "average"
   ]
  },
  {
   "cell_type": "markdown",
   "id": "comprehensive-riding",
   "metadata": {},
   "source": [
    "Вывести все значения, выше среднего уровня."
   ]
  },
  {
   "cell_type": "code",
   "execution_count": 12,
   "id": "inside-calculator",
   "metadata": {},
   "outputs": [
    {
     "data": {
      "text/plain": [
       "6     6094.828014\n",
       "8     5320.737085\n",
       "9     5898.267258\n",
       "12    7920.680126\n",
       "14    6945.315162\n",
       "18    5125.122190\n",
       "21    5905.781452\n",
       "22    5843.902439\n",
       "23    6870.840829\n",
       "25    6679.162607\n",
       "28    5730.788447\n",
       "29    7926.314137\n",
       "31    7024.566336\n",
       "32    8218.414554\n",
       "33    5558.597670\n",
       "36    5137.387606\n",
       "37    6312.665709\n",
       "38    5618.713087\n",
       "Name: y, dtype: float64"
      ]
     },
     "execution_count": 12,
     "metadata": {},
     "output_type": "execute_result"
    }
   ],
   "source": [
    "n[n>average]"
   ]
  },
  {
   "cell_type": "code",
   "execution_count": 13,
   "id": "equipped-appreciation",
   "metadata": {},
   "outputs": [
    {
     "name": "stdout",
     "output_type": "stream",
     "text": [
      "Интервал 2307.7756315789475 - 3152.1526204932443 : 3\n",
      "Интервал 3152.1526204932443 - 3996.529609407541 : 6\n",
      "Интервал 3996.529609407541 - 4840.906598321837 : 11\n",
      "Интервал 4840.906598321837 - 5685.283587236134 : 6\n",
      "Интервал 5685.283587236134 - 6529.660576150431 : 6\n",
      "Интервал 6529.660576150431 - 7374.0375650647275 : 4\n",
      "Интервал 7374.0375650647275 - 8218.414553979024 : 2\n",
      "Интервал 8218.414553979024 - 9062.791542893321 : 1\n",
      "39\n"
     ]
    }
   ],
   "source": [
    "import math \n",
    "N = int(len(n))\n",
    "m = math.ceil(N**0.5)\n",
    "h = (xmax-xmin) / m\n",
    "sum = 0\n",
    "for i in range(m+1):\n",
    "    counter = 0\n",
    "    a = xmin+i*h\n",
    "    b = xmin+(i+1)*h\n",
    "    for j in n:\n",
    "        if j >= a and j <b:\n",
    "            counter += 1\n",
    "            sum += 1\n",
    "    print('Интервал',a,'-',b,':',counter)\n",
    "    counter = 0\n",
    "print(sum)"
   ]
  },
  {
   "cell_type": "code",
   "execution_count": null,
   "id": "korean-cleanup",
   "metadata": {},
   "outputs": [],
   "source": []
  }
 ],
 "metadata": {
  "kernelspec": {
   "display_name": "Python 3",
   "language": "python",
   "name": "python3"
  },
  "language_info": {
   "codemirror_mode": {
    "name": "ipython",
    "version": 3
   },
   "file_extension": ".py",
   "mimetype": "text/x-python",
   "name": "python",
   "nbconvert_exporter": "python",
   "pygments_lexer": "ipython3",
   "version": "3.7.1"
  }
 },
 "nbformat": 4,
 "nbformat_minor": 5
}
