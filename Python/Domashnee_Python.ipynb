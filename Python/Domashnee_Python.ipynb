{
 "cells": [
  {
   "cell_type": "markdown",
   "metadata": {},
   "source": [
    "#### Написать алгоритм расчета для любого х: 3(х+8)sin⁡(x8)+х. Округлить в большую сторону."
   ]
  },
  {
   "cell_type": "code",
   "execution_count": 27,
   "metadata": {},
   "outputs": [
    {
     "name": "stdout",
     "output_type": "stream",
     "text": [
      "Введи число: 3\n",
      "10\n"
     ]
    }
   ],
   "source": [
    "import math\n",
    "x = int(input('Введи число: '))\n",
    "if x == 0:\n",
    "    print('Ошибка!')\n",
    "else:\n",
    "    ans = (x+8) ** (1/3) / math.sin(x/8) + abs(x)\n",
    "    print(math.ceil(ans))"
   ]
  },
  {
   "cell_type": "markdown",
   "metadata": {},
   "source": [
    "#### Создать вектор v (2,5,8,2, 3,5). Создать вектор b (7,1,3,2, 3,8). Написать алгоритм расчета: v2+b -minbb+i=13b. Добавить к вектору b значения: 5,6,9 . Построить в порядке убывания вектор b, найти произведение 5 и 2-го  элементов в отсортированном списке."
   ]
  },
  {
   "cell_type": "code",
   "execution_count": 4,
   "metadata": {},
   "outputs": [
    {
     "name": "stdout",
     "output_type": "stream",
     "text": [
      "137.29166666666666\n",
      "[7 1 3 2 3 8 5 6 9]\n",
      "[1 2 3 3 5 6 7 8 9]\n",
      "10\n"
     ]
    }
   ],
   "source": [
    "import numpy as np\n",
    "v = np.array([2,5,8,2,3,5])\n",
    "b = np.array([7,1,3,2,3,8])\n",
    "print(sum(v**2) + (max(b)-min(b))/sum(b) + sum(b[1:4]))\n",
    "\n",
    "b = np.concatenate([b,np.array([5,6,9])])\n",
    "print(b)\n",
    "bsort = np.sort(b)\n",
    "print(bsort)\n",
    "print(bsort[1]*bsort[4])"
   ]
  },
  {
   "cell_type": "markdown",
   "metadata": {},
   "source": [
    "#### Создайте матрицу  А:\n",
    "#### 2 3 2\n",
    "#### 3 5 6 \n",
    "#### 4 8 12 \n",
    "#### Создайте матрицу В:\n",
    "#### 6 6 2 \n",
    "#### 4 7 6 \n",
    "#### 5 8 7 \n",
    "\n",
    "#### Найти: a= |АТ*А*В+А*В-1*Е|"
   ]
  },
  {
   "cell_type": "code",
   "execution_count": 33,
   "metadata": {},
   "outputs": [],
   "source": [
    "A = np.array([[2,3,2],[3,5,6],[4,8,12]])\n",
    "B = np.array([[6,6,2],[4,7,6],[5,8,7]])"
   ]
  },
  {
   "cell_type": "code",
   "execution_count": 34,
   "metadata": {},
   "outputs": [
    {
     "data": {
      "text/plain": [
       "array([[ 2,  3,  2],\n",
       "       [ 3,  5,  6],\n",
       "       [ 4,  8, 12]])"
      ]
     },
     "execution_count": 34,
     "metadata": {},
     "output_type": "execute_result"
    }
   ],
   "source": [
    "A"
   ]
  },
  {
   "cell_type": "code",
   "execution_count": 35,
   "metadata": {},
   "outputs": [
    {
     "data": {
      "text/plain": [
       "array([[6, 6, 2],\n",
       "       [4, 7, 6],\n",
       "       [5, 8, 7]])"
      ]
     },
     "execution_count": 35,
     "metadata": {},
     "output_type": "execute_result"
    }
   ],
   "source": [
    "B"
   ]
  },
  {
   "cell_type": "code",
   "execution_count": 75,
   "metadata": {},
   "outputs": [],
   "source": [
    "a = np.linalg.det((A.dot(A.transpose()).dot(B)) + (A.dot(np.linalg.matrix_power(B,-1).dot(B))))"
   ]
  },
  {
   "cell_type": "code",
   "execution_count": 76,
   "metadata": {},
   "outputs": [
    {
     "data": {
      "text/plain": [
       "-6720.0000000100945"
      ]
     },
     "execution_count": 76,
     "metadata": {},
     "output_type": "execute_result"
    }
   ],
   "source": [
    "a"
   ]
  },
  {
   "cell_type": "markdown",
   "metadata": {},
   "source": [
    "#### Создайте вектор v: 2,3,4,2,3,2,3,4,1,1,1,5,6,6,6. \n",
    "#### Добавьте в конец элементы 5,7,8\n",
    "#### Отсортировать вектор по возрастанию. Построить огиву ранжированного ряда. \n",
    "#### Удалить элемент, стоящий на 4 месте в отсортированной списке.\n",
    "#### На вторую позицию вставить значение «6».\n",
    "#### Создать вектор х, состоящий из 20 случайных чисел.\n",
    "#### Объединить векторы х и у."
   ]
  },
  {
   "cell_type": "code",
   "execution_count": 52,
   "metadata": {},
   "outputs": [],
   "source": [
    "v = np.array([2,3,4,2,3,2,3,4,1,1,1,5,6,6,6])"
   ]
  },
  {
   "cell_type": "code",
   "execution_count": 54,
   "metadata": {},
   "outputs": [
    {
     "data": {
      "text/plain": [
       "array([2, 3, 4, 2, 3, 2, 3, 4, 1, 1, 1, 5, 6, 6, 6, 5, 7, 8])"
      ]
     },
     "execution_count": 54,
     "metadata": {},
     "output_type": "execute_result"
    }
   ],
   "source": [
    "np.append(v,[5,7,8])"
   ]
  },
  {
   "cell_type": "code",
   "execution_count": 65,
   "metadata": {},
   "outputs": [],
   "source": [
    "v = np.sort(v)"
   ]
  },
  {
   "cell_type": "code",
   "execution_count": 66,
   "metadata": {},
   "outputs": [
    {
     "data": {
      "text/plain": [
       "array([1, 1, 1, 2, 2, 2, 3, 3, 3, 4, 4, 5, 6, 6, 6])"
      ]
     },
     "execution_count": 66,
     "metadata": {},
     "output_type": "execute_result"
    }
   ],
   "source": [
    "v"
   ]
  },
  {
   "cell_type": "code",
   "execution_count": 67,
   "metadata": {},
   "outputs": [
    {
     "data": {
      "text/plain": [
       "[<matplotlib.lines.Line2D at 0x17fef980760>]"
      ]
     },
     "execution_count": 67,
     "metadata": {},
     "output_type": "execute_result"
    },
    {
     "data": {
      "image/png": "[encoded data removed]",
      "text/plain": [
       "<Figure size 432x288 with 1 Axes>"
      ]
     },
     "metadata": {
      "needs_background": "light"
     },
     "output_type": "display_data"
    }
   ],
   "source": [
    "import matplotlib.pyplot as plt\n",
    "plt.plot(v)"
   ]
  },
  {
   "cell_type": "code",
   "execution_count": 68,
   "metadata": {},
   "outputs": [
    {
     "data": {
      "text/plain": [
       "array([1, 1, 1, 2, 2, 3, 3, 3, 4, 4, 5, 6, 6, 6])"
      ]
     },
     "execution_count": 68,
     "metadata": {},
     "output_type": "execute_result"
    }
   ],
   "source": [
    "np.delete(v,4)"
   ]
  },
  {
   "cell_type": "code",
   "execution_count": 69,
   "metadata": {},
   "outputs": [],
   "source": [
    "v.flat[1]=6"
   ]
  },
  {
   "cell_type": "code",
   "execution_count": 70,
   "metadata": {},
   "outputs": [
    {
     "data": {
      "text/plain": [
       "array([1, 6, 1, 2, 2, 2, 3, 3, 3, 4, 4, 5, 6, 6, 6])"
      ]
     },
     "execution_count": 70,
     "metadata": {},
     "output_type": "execute_result"
    }
   ],
   "source": [
    "v"
   ]
  },
  {
   "cell_type": "code",
   "execution_count": 71,
   "metadata": {},
   "outputs": [],
   "source": [
    "x = np.random.randint(0, 9, 20)"
   ]
  },
  {
   "cell_type": "code",
   "execution_count": 72,
   "metadata": {},
   "outputs": [
    {
     "data": {
      "text/plain": [
       "array([3, 3, 0, 3, 2, 8, 3, 0, 1, 3, 0, 5, 2, 1, 5, 8, 4, 5, 1, 0])"
      ]
     },
     "execution_count": 72,
     "metadata": {},
     "output_type": "execute_result"
    }
   ],
   "source": [
    "x"
   ]
  },
  {
   "cell_type": "code",
   "execution_count": 73,
   "metadata": {},
   "outputs": [],
   "source": [
    "vx = np.concatenate([v,x])"
   ]
  },
  {
   "cell_type": "code",
   "execution_count": 74,
   "metadata": {},
   "outputs": [
    {
     "data": {
      "text/plain": [
       "array([1, 6, 1, 2, 2, 2, 3, 3, 3, 4, 4, 5, 6, 6, 6, 3, 3, 0, 3, 2, 8, 3,\n",
       "       0, 1, 3, 0, 5, 2, 1, 5, 8, 4, 5, 1, 0])"
      ]
     },
     "execution_count": 74,
     "metadata": {},
     "output_type": "execute_result"
    }
   ],
   "source": [
    "vx"
   ]
  },
  {
   "cell_type": "markdown",
   "metadata": {},
   "source": [
    "#### Создать словарь W: a - 100, b - 500,c - 60\n",
    "#### Вывести только обозначения букв. Вывести на печать только цифры.\n",
    "#### Создать словарь Z: d - 400, e - 78, f - 350\n",
    "#### Объединить 2 словаря обновив при этом W.\n",
    "#### Проверить есть ли в словаре символы “b”, “p”, “b”\n",
    "#### Определить количество ключей в словаре\n",
    "#### Удалить запись с ключом “f“\n",
    "#### Поменять значение с ключом “a“ на 500\n",
    "#### Вывести словарь в виде кортежа\n",
    "#### Добавить запись g-300\n",
    "#### Создать копию словаря (Q)\n",
    "#### Очистить содержимое словаря Q"
   ]
  },
  {
   "cell_type": "code",
   "execution_count": 77,
   "metadata": {},
   "outputs": [],
   "source": [
    "W = {\n",
    "    \"a\" : 100,\n",
    "    \"b\" : 500,\n",
    "    \"c\" : 60,\n",
    "}"
   ]
  },
  {
   "cell_type": "code",
   "execution_count": 79,
   "metadata": {},
   "outputs": [
    {
     "data": {
      "text/plain": [
       "dict_keys(['a', 'b', 'c'])"
      ]
     },
     "execution_count": 79,
     "metadata": {},
     "output_type": "execute_result"
    }
   ],
   "source": [
    "W.keys()"
   ]
  },
  {
   "cell_type": "code",
   "execution_count": 80,
   "metadata": {},
   "outputs": [
    {
     "data": {
      "text/plain": [
       "dict_values([100, 500, 60])"
      ]
     },
     "execution_count": 80,
     "metadata": {},
     "output_type": "execute_result"
    }
   ],
   "source": [
    "W.values()"
   ]
  },
  {
   "cell_type": "code",
   "execution_count": 82,
   "metadata": {},
   "outputs": [],
   "source": [
    "Z = {\n",
    "    \"d\" : 400,\n",
    "    \"e\" : 789,\n",
    "    \"f\" : 350,\n",
    "}"
   ]
  },
  {
   "cell_type": "code",
   "execution_count": 83,
   "metadata": {},
   "outputs": [],
   "source": [
    "for i in Z:\n",
    "    W[i] = Z[i]"
   ]
  },
  {
   "cell_type": "code",
   "execution_count": 84,
   "metadata": {},
   "outputs": [
    {
     "data": {
      "text/plain": [
       "{'a': 100, 'b': 500, 'c': 60, 'd': 400, 'e': 789, 'f': 350}"
      ]
     },
     "execution_count": 84,
     "metadata": {},
     "output_type": "execute_result"
    }
   ],
   "source": [
    "W"
   ]
  },
  {
   "cell_type": "code",
   "execution_count": 86,
   "metadata": {},
   "outputs": [
    {
     "data": {
      "text/plain": [
       "(True, False, True)"
      ]
     },
     "execution_count": 86,
     "metadata": {},
     "output_type": "execute_result"
    }
   ],
   "source": [
    "'b' in W, 'p' in W, 'd' in W"
   ]
  },
  {
   "cell_type": "code",
   "execution_count": 87,
   "metadata": {},
   "outputs": [
    {
     "data": {
      "text/plain": [
       "6"
      ]
     },
     "execution_count": 87,
     "metadata": {},
     "output_type": "execute_result"
    }
   ],
   "source": [
    "len(W)"
   ]
  },
  {
   "cell_type": "code",
   "execution_count": 88,
   "metadata": {},
   "outputs": [
    {
     "name": "stdout",
     "output_type": "stream",
     "text": [
      "{'a': 100, 'b': 500, 'c': 60, 'd': 400, 'e': 789}\n"
     ]
    }
   ],
   "source": [
    "del W['f']\n",
    "print(W)"
   ]
  },
  {
   "cell_type": "code",
   "execution_count": 89,
   "metadata": {},
   "outputs": [],
   "source": [
    "W['a']=500"
   ]
  },
  {
   "cell_type": "code",
   "execution_count": 90,
   "metadata": {},
   "outputs": [
    {
     "name": "stdout",
     "output_type": "stream",
     "text": [
      "dict_items([('a', 500), ('b', 500), ('c', 60), ('d', 400), ('e', 789)])\n"
     ]
    }
   ],
   "source": [
    "tuple = W.items()\n",
    "print(tuple)"
   ]
  },
  {
   "cell_type": "code",
   "execution_count": 91,
   "metadata": {},
   "outputs": [],
   "source": [
    "W['g'] = 300"
   ]
  },
  {
   "cell_type": "code",
   "execution_count": 92,
   "metadata": {},
   "outputs": [
    {
     "name": "stdout",
     "output_type": "stream",
     "text": [
      "{'a': 500, 'b': 500, 'c': 60, 'd': 400, 'e': 789, 'g': 300}\n"
     ]
    }
   ],
   "source": [
    "Q = W.copy()\n",
    "print(Q)"
   ]
  },
  {
   "cell_type": "code",
   "execution_count": 95,
   "metadata": {},
   "outputs": [
    {
     "name": "stdout",
     "output_type": "stream",
     "text": [
      "{}\n"
     ]
    }
   ],
   "source": [
    "Q.clear()\n",
    "print(Q)"
   ]
  },
  {
   "cell_type": "code",
   "execution_count": 96,
   "metadata": {},
   "outputs": [
    {
     "name": "stdout",
     "output_type": "stream",
     "text": [
      "[8, 3, 2, 1, 4, 5, 6, 7]\n",
      "True True False False\n",
      "{1, 2, 3, 4, 5, 6, 7, 9}\n",
      "set()\n",
      "{67, 12, 17, 22}\n",
      "True\n",
      "False\n",
      "False\n",
      "False\n",
      "frozenset({1, 2, 3, 4, 5, 6, 7, 9})\n"
     ]
    },
    {
     "ename": "AttributeError",
     "evalue": "'frozenset' object has no attribute 'add'",
     "output_type": "error",
     "traceback": [
      "\u001b[1;31m---------------------------------------------------------------------------\u001b[0m",
      "\u001b[1;31mAttributeError\u001b[0m                            Traceback (most recent call last)",
      "\u001b[1;32m<ipython-input-96-ee49bef31fff>\u001b[0m in \u001b[0;36m<module>\u001b[1;34m\u001b[0m\n\u001b[0;32m     63\u001b[0m \u001b[0mfrozenxset\u001b[0m \u001b[1;33m=\u001b[0m \u001b[0mfrozenset\u001b[0m\u001b[1;33m(\u001b[0m\u001b[0mxset\u001b[0m\u001b[1;33m)\u001b[0m\u001b[1;33m\u001b[0m\u001b[1;33m\u001b[0m\u001b[0m\n\u001b[0;32m     64\u001b[0m \u001b[0mprint\u001b[0m\u001b[1;33m(\u001b[0m\u001b[0mfrozenxset\u001b[0m\u001b[1;33m)\u001b[0m\u001b[1;33m\u001b[0m\u001b[1;33m\u001b[0m\u001b[0m\n\u001b[1;32m---> 65\u001b[1;33m \u001b[0mfrozenxset\u001b[0m\u001b[1;33m.\u001b[0m\u001b[0madd\u001b[0m\u001b[1;33m(\u001b[0m\u001b[1;36m19\u001b[0m\u001b[1;33m)\u001b[0m\u001b[1;33m\u001b[0m\u001b[1;33m\u001b[0m\u001b[0m\n\u001b[0m",
      "\u001b[1;31mAttributeError\u001b[0m: 'frozenset' object has no attribute 'add'"
     ]
    }
   ],
   "source": [
    "#1. Создать список x:5,3,6,8,3,4,6,2,1,4,5,6,7,7\n",
    "\n",
    "x = [5,3,6,8,3,4,6,2,1,4,5,6,7,7]\n",
    "\n",
    "#2. Создать список у: 12,1,6,7,3,22,6,2,17,4,5,67,3,9\n",
    "\n",
    "y = [12,1,6,7,3,22,6,2,17,4,5,67,3,9]\n",
    "\n",
    "#3. Удалить из списка х поворяющиеся элементы\n",
    "for i in range(max(x)+1):\n",
    "\tif x.count(i)>1:\n",
    "\t\tfor t in range(1,x.count(i)):\n",
    "\t\t   x.remove(i)\n",
    "print(x)\n",
    "\n",
    "#4. Преобразовать списки в множества\n",
    "xset = set()\n",
    "yset = set()\n",
    "for i in x:\n",
    "\txset.add(i) \n",
    "for i in y:\n",
    "\tyset.add(i)\n",
    "\t\n",
    "#5. Определить число элементов множества у\n",
    "leny = len(yset)\n",
    "\n",
    "#6. Проверить входит ли в множество х:5,8,12,9\n",
    "print(5 in xset, 8 in xset, 12 in xset, 9 in xset)\n",
    "\n",
    "#7. Добавить в множество х 9\n",
    "xset.add(9)\n",
    "\n",
    "#8. Удалить из множества х значения 8 и 12 (разными способами)\n",
    "xset.discard(12)\n",
    "xset.remove(8)\n",
    "\n",
    "#9. Объединить множества в w\n",
    "w = xset.union(yset)\n",
    "\n",
    "#10. Посмотреть общие элементы множеств х и у\n",
    "print(xset.intersection(yset))\n",
    "\n",
    "#11. Найти элементы х, которые не входят в у\n",
    "print(xset.difference(yset))\n",
    "\n",
    "#12. Найти элементы, которые входят в х или у, но не в оба сразу\n",
    "print(xset.symmetric_difference(yset))\n",
    "\n",
    "#13. Проверить является ли х подмножеством w\n",
    "print(xset.issubset(yset))\n",
    "\n",
    "#14. Проверить является ли у подмножеством х\n",
    "print(yset.issubset(xset))\n",
    "\n",
    "#15. Проверить равны ли множества х и у\n",
    "print(xset == yset)\n",
    "\n",
    "#16. Сравнить больше ли х у\n",
    "print(xset > yset)\n",
    "\n",
    "#17. Заморозить множество х (функция frozenset()) и попробовать добавить значение 19 в новое замороженное множество\n",
    "\n",
    "frozenxset = frozenset(xset)\n",
    "print(frozenxset)\n",
    "frozenxset.add(19) "
   ]
  },
  {
   "cell_type": "markdown",
   "metadata": {},
   "source": [
    "#### x - 3,4,7,6,8,9,0,7,6\n",
    "#### y - 6,8,9,5,7,4,5,5,7\n",
    "#### z – a,b,c,d,e,f,g,h,i\n",
    "Построить следующие типы графиков. Для каждого графика вывести заголовок.\n",
    "#### Линейный для переменной х. Изменить цвета и типы линий и заголовков, добавить масштабную сетку, тип точек.\n",
    "#### Круговая диаграмма для х. Предусмотреть 2 варианта: 1 – подписи (z) на самом графике. 2 – подписи справа вверху\n",
    "#### Столбиковая диаграмма по переменной х. Подписать оси.\n",
    "#### Точечная диаграмма для переменных x и y. Подписать оси. Добавить сетку. Подписать точки (добавить метки z). Изменить цвета и типы точек.\n",
    "#### Гистограмма для переменной х. Предусмотреть 3 интервала. Подписать оси.\n"
   ]
  },
  {
   "cell_type": "code",
   "execution_count": 127,
   "metadata": {},
   "outputs": [],
   "source": [
    "x = [3,4,7,6,8,9,0,7,6]\n",
    "y = [6,8,9,5,7,4,5,5,7]\n",
    "z = ['a','b','c','d','e','f','g','h','i']"
   ]
  },
  {
   "cell_type": "code",
   "execution_count": 131,
   "metadata": {},
   "outputs": [
    {
     "data": {
      "image/png": "[encoded data removed]",
      "text/plain": [
       "<Figure size 432x288 with 1 Axes>"
      ]
     },
     "metadata": {
      "needs_background": "light"
     },
     "output_type": "display_data"
    }
   ],
   "source": [
    "fig, ax = plt.subplots()\n",
    "\n",
    "ax.plot(x, c = 'g', ls=':',marker='*')\n",
    "ax.grid(color = 'y',ls = '--')\n",
    "ax.set_ylabel('Значение')\n",
    "ax.set_xlabel('Индекс')\n",
    "plt.show()"
   ]
  },
  {
   "cell_type": "code",
   "execution_count": 145,
   "metadata": {},
   "outputs": [
    {
     "data": {
      "image/png": "[encoded data removed]",
      "text/plain": [
       "<Figure size 432x288 with 1 Axes>"
      ]
     },
     "metadata": {},
     "output_type": "display_data"
    }
   ],
   "source": [
    "fig1, ax1 = plt.subplots()\n",
    "ax1.pie(x,labels = x)\n",
    "ax1.axis('equal')\n",
    "ax1.legend(x);\n",
    "plt.show()"
   ]
  },
  {
   "cell_type": "code",
   "execution_count": 163,
   "metadata": {},
   "outputs": [
    {
     "data": {
      "image/png": "[encoded data removed]",
      "text/plain": [
       "<Figure size 432x288 with 1 Axes>"
      ]
     },
     "metadata": {
      "needs_background": "light"
     },
     "output_type": "display_data"
    }
   ],
   "source": [
    "fig, ax = plt.subplots()\n",
    "tmplist = []\n",
    "for i in range(len(x)):\n",
    "    tmplist.append(i)\n",
    "    \n",
    "ax.bar(tmplist,x)\n",
    "ax.set_xlabel('Индекс')\n",
    "ax.set_ylabel('Значение')\n",
    "plt.show()"
   ]
  },
  {
   "cell_type": "code",
   "execution_count": 193,
   "metadata": {},
   "outputs": [
    {
     "data": {
      "text/plain": [
       "0    Annotation(3.2, 6, 'a')\n",
       "1    Annotation(4.2, 8, 'b')\n",
       "2    Annotation(7.2, 9, 'c')\n",
       "3    Annotation(6.2, 5, 'd')\n",
       "4    Annotation(8.2, 7, 'e')\n",
       "5    Annotation(9.2, 4, 'f')\n",
       "6    Annotation(0.2, 5, 'g')\n",
       "7    Annotation(7.2, 5, 'h')\n",
       "8    Annotation(6.2, 7, 'i')\n",
       "dtype: object"
      ]
     },
     "execution_count": 193,
     "metadata": {},
     "output_type": "execute_result"
    },
    {
     "data": {
      "image/png": "[encoded data removed]",
      "text/plain": [
       "<Figure size 432x288 with 1 Axes>"
      ]
     },
     "metadata": {
      "needs_background": "light"
     },
     "output_type": "display_data"
    }
   ],
   "source": [
    "import pandas as pd\n",
    "\n",
    "table = [x,\n",
    "        y,\n",
    "        z]\n",
    "\n",
    "df = pd.DataFrame(table, index=['x','y','Точка'])\n",
    "dft = df.T\n",
    "\n",
    "plt.scatter(dft['x'], dft['y'], marker='o',c='r')\n",
    "plt.grid()\n",
    "ax = plt.gca()\n",
    "dft.apply(lambda x: ax.annotate(x['Точка'], (x['x']+0.2, x['y'])), axis=1)"
   ]
  },
  {
   "cell_type": "code",
   "execution_count": 204,
   "metadata": {},
   "outputs": [
    {
     "data": {
      "image/png": "[encoded data removed]",
      "text/plain": [
       "<Figure size 432x288 with 1 Axes>"
      ]
     },
     "metadata": {
      "needs_background": "light"
     },
     "output_type": "display_data"
    }
   ],
   "source": [
    "fig, ax = plt.subplots()\n",
    "n, bin, patches = plt.hist(x, bins=3)\n",
    "ax.set_xlabel('Индекс')\n",
    "ax.set_ylabel('Значение')\n",
    "plt.show()"
   ]
  },
  {
   "cell_type": "markdown",
   "metadata": {},
   "source": [
    "#### Вывести на экран циклом пять строк из нулей, причем каждая строка должна быть пронумерована;"
   ]
  },
  {
   "cell_type": "code",
   "execution_count": 206,
   "metadata": {},
   "outputs": [
    {
     "name": "stdout",
     "output_type": "stream",
     "text": [
      "№ 1 : 00000\n",
      "№ 2 : 00000\n",
      "№ 3 : 00000\n",
      "№ 4 : 00000\n",
      "№ 5 : 00000\n"
     ]
    }
   ],
   "source": [
    "for i in range(5):\n",
    "    print('№',i+1,':','0'*5)"
   ]
  },
  {
   "cell_type": "markdown",
   "metadata": {},
   "source": [
    "#### Найти сумму ряда чисел от 1 до 100. Полученный результат вывести на экран;\n"
   ]
  },
  {
   "cell_type": "code",
   "execution_count": 209,
   "metadata": {},
   "outputs": [
    {
     "name": "stdout",
     "output_type": "stream",
     "text": [
      "5050\n"
     ]
    }
   ],
   "source": [
    "sum = 0\n",
    "for i in range(100):\n",
    "    sum += i+1\n",
    "print(sum)"
   ]
  },
  {
   "cell_type": "markdown",
   "metadata": {},
   "source": [
    "#### Дано семь чисел. Найти количество положительных чисел среди них:\n",
    "##### 1) 5964, -12, -68874, 101, -103, -741, 36985\n",
    "##### 2) -713, -12563, -89, -45698, -898, -75632, -635\n"
   ]
  },
  {
   "cell_type": "code",
   "execution_count": 294,
   "metadata": {},
   "outputs": [
    {
     "name": "stdout",
     "output_type": "stream",
     "text": [
      "3\n",
      "0\n"
     ]
    }
   ],
   "source": [
    "def pol (num):\n",
    "    pos = 0\n",
    "    for i in num:\n",
    "        if i>0:\n",
    "            pos += 1\n",
    "    return pos\n",
    "\n",
    "num1 = [5964,-12,-68874,101,-103,-741,36985]\n",
    "num2 = [-713, -12563,-89,-45698,-898,-75632,-635]\n",
    "print(pol(num1))\n",
    "print(pol(num2))"
   ]
  },
  {
   "cell_type": "markdown",
   "metadata": {},
   "source": [
    "#### Даны три числа. Вывести на экран \"yes\", если среди них есть одинаковые, иначе вывести \"ERROR\""
   ]
  },
  {
   "cell_type": "code",
   "execution_count": 295,
   "metadata": {},
   "outputs": [
    {
     "name": "stdout",
     "output_type": "stream",
     "text": [
      "ERROR\n",
      "yes\n",
      "yes\n"
     ]
    }
   ],
   "source": [
    "def yesorerr(a,b,c):\n",
    "    if a == b or a == c or b == c:\n",
    "        print('yes')\n",
    "    else:\n",
    "        print('ERROR')\n",
    "\n",
    "yesorerr(956820,956620,936820)\n",
    "yesorerr(24930566,24960566,24930566)\n",
    "yesorerr(3496,3496,3496)"
   ]
  },
  {
   "cell_type": "markdown",
   "metadata": {},
   "source": [
    "#### Даны три числа. Вывести yes если можно сложить два  з них и получить третье"
   ]
  },
  {
   "cell_type": "code",
   "execution_count": 299,
   "metadata": {},
   "outputs": [
    {
     "name": "stdout",
     "output_type": "stream",
     "text": [
      "yes\n",
      "no\n"
     ]
    }
   ],
   "source": [
    "def yessum(a,b,c):\n",
    "    if a+b==c or a+c==b or b+c==a:\n",
    "        return('yes')\n",
    "    else:\n",
    "        return('no')\n",
    "        \n",
    "print(yessum(9760,3594,6166))\n",
    "print(yessum(56783,49998,6784))"
   ]
  },
  {
   "cell_type": "markdown",
   "metadata": {},
   "source": [
    "#### Вывести на экран все четные от 1 до 698."
   ]
  },
  {
   "cell_type": "code",
   "execution_count": 300,
   "metadata": {},
   "outputs": [
    {
     "name": "stdout",
     "output_type": "stream",
     "text": [
      "2\n",
      "4\n",
      "6\n",
      "8\n",
      "10\n",
      "12\n",
      "14\n",
      "16\n",
      "18\n",
      "20\n",
      "22\n",
      "24\n",
      "26\n",
      "28\n",
      "30\n",
      "32\n",
      "34\n",
      "36\n",
      "38\n",
      "40\n",
      "42\n",
      "44\n",
      "46\n",
      "48\n",
      "50\n",
      "52\n",
      "54\n",
      "56\n",
      "58\n",
      "60\n",
      "62\n",
      "64\n",
      "66\n",
      "68\n",
      "70\n",
      "72\n",
      "74\n",
      "76\n",
      "78\n",
      "80\n",
      "82\n",
      "84\n",
      "86\n",
      "88\n",
      "90\n",
      "92\n",
      "94\n",
      "96\n",
      "98\n",
      "100\n",
      "102\n",
      "104\n",
      "106\n",
      "108\n",
      "110\n",
      "112\n",
      "114\n",
      "116\n",
      "118\n",
      "120\n",
      "122\n",
      "124\n",
      "126\n",
      "128\n",
      "130\n",
      "132\n",
      "134\n",
      "136\n",
      "138\n",
      "140\n",
      "142\n",
      "144\n",
      "146\n",
      "148\n",
      "150\n",
      "152\n",
      "154\n",
      "156\n",
      "158\n",
      "160\n",
      "162\n",
      "164\n",
      "166\n",
      "168\n",
      "170\n",
      "172\n",
      "174\n",
      "176\n",
      "178\n",
      "180\n",
      "182\n",
      "184\n",
      "186\n",
      "188\n",
      "190\n",
      "192\n",
      "194\n",
      "196\n",
      "198\n",
      "200\n",
      "202\n",
      "204\n",
      "206\n",
      "208\n",
      "210\n",
      "212\n",
      "214\n",
      "216\n",
      "218\n",
      "220\n",
      "222\n",
      "224\n",
      "226\n",
      "228\n",
      "230\n",
      "232\n",
      "234\n",
      "236\n",
      "238\n",
      "240\n",
      "242\n",
      "244\n",
      "246\n",
      "248\n",
      "250\n",
      "252\n",
      "254\n",
      "256\n",
      "258\n",
      "260\n",
      "262\n",
      "264\n",
      "266\n",
      "268\n",
      "270\n",
      "272\n",
      "274\n",
      "276\n",
      "278\n",
      "280\n",
      "282\n",
      "284\n",
      "286\n",
      "288\n",
      "290\n",
      "292\n",
      "294\n",
      "296\n",
      "298\n",
      "300\n",
      "302\n",
      "304\n",
      "306\n",
      "308\n",
      "310\n",
      "312\n",
      "314\n",
      "316\n",
      "318\n",
      "320\n",
      "322\n",
      "324\n",
      "326\n",
      "328\n",
      "330\n",
      "332\n",
      "334\n",
      "336\n",
      "338\n",
      "340\n",
      "342\n",
      "344\n",
      "346\n",
      "348\n",
      "350\n",
      "352\n",
      "354\n",
      "356\n",
      "358\n",
      "360\n",
      "362\n",
      "364\n",
      "366\n",
      "368\n",
      "370\n",
      "372\n",
      "374\n",
      "376\n",
      "378\n",
      "380\n",
      "382\n",
      "384\n",
      "386\n",
      "388\n",
      "390\n",
      "392\n",
      "394\n",
      "396\n",
      "398\n",
      "400\n",
      "402\n",
      "404\n",
      "406\n",
      "408\n",
      "410\n",
      "412\n",
      "414\n",
      "416\n",
      "418\n",
      "420\n",
      "422\n",
      "424\n",
      "426\n",
      "428\n",
      "430\n",
      "432\n",
      "434\n",
      "436\n",
      "438\n",
      "440\n",
      "442\n",
      "444\n",
      "446\n",
      "448\n",
      "450\n",
      "452\n",
      "454\n",
      "456\n",
      "458\n",
      "460\n",
      "462\n",
      "464\n",
      "466\n",
      "468\n",
      "470\n",
      "472\n",
      "474\n",
      "476\n",
      "478\n",
      "480\n",
      "482\n",
      "484\n",
      "486\n",
      "488\n",
      "490\n",
      "492\n",
      "494\n",
      "496\n",
      "498\n",
      "500\n",
      "502\n",
      "504\n",
      "506\n",
      "508\n",
      "510\n",
      "512\n",
      "514\n",
      "516\n",
      "518\n",
      "520\n",
      "522\n",
      "524\n",
      "526\n",
      "528\n",
      "530\n",
      "532\n",
      "534\n",
      "536\n",
      "538\n",
      "540\n",
      "542\n",
      "544\n",
      "546\n",
      "548\n",
      "550\n",
      "552\n",
      "554\n",
      "556\n",
      "558\n",
      "560\n",
      "562\n",
      "564\n",
      "566\n",
      "568\n",
      "570\n",
      "572\n",
      "574\n",
      "576\n",
      "578\n",
      "580\n",
      "582\n",
      "584\n",
      "586\n",
      "588\n",
      "590\n",
      "592\n",
      "594\n",
      "596\n",
      "598\n",
      "600\n",
      "602\n",
      "604\n",
      "606\n",
      "608\n",
      "610\n",
      "612\n",
      "614\n",
      "616\n",
      "618\n",
      "620\n",
      "622\n",
      "624\n",
      "626\n",
      "628\n",
      "630\n",
      "632\n",
      "634\n",
      "636\n",
      "638\n",
      "640\n",
      "642\n",
      "644\n",
      "646\n",
      "648\n",
      "650\n",
      "652\n",
      "654\n",
      "656\n",
      "658\n",
      "660\n",
      "662\n",
      "664\n",
      "666\n",
      "668\n",
      "670\n",
      "672\n",
      "674\n",
      "676\n",
      "678\n",
      "680\n",
      "682\n",
      "684\n",
      "686\n",
      "688\n",
      "690\n",
      "692\n",
      "694\n",
      "696\n",
      "698\n"
     ]
    }
   ],
   "source": [
    "for i in range(1,699):\n",
    "    if i % 2 == 0:\n",
    "        print(i)"
   ]
  },
  {
   "cell_type": "markdown",
   "metadata": {},
   "source": [
    "#### Посчитать сумму числового ряда от 0 до 14;от 569 до 601;от -65 до 12"
   ]
  },
  {
   "cell_type": "code",
   "execution_count": 303,
   "metadata": {},
   "outputs": [
    {
     "name": "stdout",
     "output_type": "stream",
     "text": [
      "105\n",
      "19305\n",
      "-2067\n"
     ]
    }
   ],
   "source": [
    "def sumr(a,b):\n",
    "    sum = 0\n",
    "    for i in range(a,b+1):\n",
    "        sum += i\n",
    "    return sum\n",
    "\n",
    "print(sumr(0,14))\n",
    "print(sumr(569,601))\n",
    "print(sumr(-65,12))"
   ]
  },
  {
   "cell_type": "markdown",
   "metadata": {},
   "source": [
    "#### Перемножить все нечётные значение от 0 до 84"
   ]
  },
  {
   "cell_type": "code",
   "execution_count": 304,
   "metadata": {},
   "outputs": [
    {
     "name": "stdout",
     "output_type": "stream",
     "text": [
      "536347102817482913555411512425352545980058003572241486357421875\n"
     ]
    }
   ],
   "source": [
    "mul = 1\n",
    "for i in range(0,85):\n",
    "    if i%2 != 0:\n",
    "        mul *= i\n",
    "print(mul)"
   ]
  },
  {
   "cell_type": "markdown",
   "metadata": {},
   "source": [
    "#### Записать в массив все числа от 54 до 3945 кратные 5"
   ]
  },
  {
   "cell_type": "code",
   "execution_count": 305,
   "metadata": {},
   "outputs": [
    {
     "name": "stdout",
     "output_type": "stream",
     "text": [
      "[55, 60, 65, 70, 75, 80, 85, 90, 95, 100, 105, 110, 115, 120, 125, 130, 135, 140, 145, 150, 155, 160, 165, 170, 175, 180, 185, 190, 195, 200, 205, 210, 215, 220, 225, 230, 235, 240, 245, 250, 255, 260, 265, 270, 275, 280, 285, 290, 295, 300, 305, 310, 315, 320, 325, 330, 335, 340, 345, 350, 355, 360, 365, 370, 375, 380, 385, 390, 395, 400, 405, 410, 415, 420, 425, 430, 435, 440, 445, 450, 455, 460, 465, 470, 475, 480, 485, 490, 495, 500, 505, 510, 515, 520, 525, 530, 535, 540, 545, 550, 555, 560, 565, 570, 575, 580, 585, 590, 595, 600, 605, 610, 615, 620, 625, 630, 635, 640, 645, 650, 655, 660, 665, 670, 675, 680, 685, 690, 695, 700, 705, 710, 715, 720, 725, 730, 735, 740, 745, 750, 755, 760, 765, 770, 775, 780, 785, 790, 795, 800, 805, 810, 815, 820, 825, 830, 835, 840, 845, 850, 855, 860, 865, 870, 875, 880, 885, 890, 895, 900, 905, 910, 915, 920, 925, 930, 935, 940, 945, 950, 955, 960, 965, 970, 975, 980, 985, 990, 995, 1000, 1005, 1010, 1015, 1020, 1025, 1030, 1035, 1040, 1045, 1050, 1055, 1060, 1065, 1070, 1075, 1080, 1085, 1090, 1095, 1100, 1105, 1110, 1115, 1120, 1125, 1130, 1135, 1140, 1145, 1150, 1155, 1160, 1165, 1170, 1175, 1180, 1185, 1190, 1195, 1200, 1205, 1210, 1215, 1220, 1225, 1230, 1235, 1240, 1245, 1250, 1255, 1260, 1265, 1270, 1275, 1280, 1285, 1290, 1295, 1300, 1305, 1310, 1315, 1320, 1325, 1330, 1335, 1340, 1345, 1350, 1355, 1360, 1365, 1370, 1375, 1380, 1385, 1390, 1395, 1400, 1405, 1410, 1415, 1420, 1425, 1430, 1435, 1440, 1445, 1450, 1455, 1460, 1465, 1470, 1475, 1480, 1485, 1490, 1495, 1500, 1505, 1510, 1515, 1520, 1525, 1530, 1535, 1540, 1545, 1550, 1555, 1560, 1565, 1570, 1575, 1580, 1585, 1590, 1595, 1600, 1605, 1610, 1615, 1620, 1625, 1630, 1635, 1640, 1645, 1650, 1655, 1660, 1665, 1670, 1675, 1680, 1685, 1690, 1695, 1700, 1705, 1710, 1715, 1720, 1725, 1730, 1735, 1740, 1745, 1750, 1755, 1760, 1765, 1770, 1775, 1780, 1785, 1790, 1795, 1800, 1805, 1810, 1815, 1820, 1825, 1830, 1835, 1840, 1845, 1850, 1855, 1860, 1865, 1870, 1875, 1880, 1885, 1890, 1895, 1900, 1905, 1910, 1915, 1920, 1925, 1930, 1935, 1940, 1945, 1950, 1955, 1960, 1965, 1970, 1975, 1980, 1985, 1990, 1995, 2000, 2005, 2010, 2015, 2020, 2025, 2030, 2035, 2040, 2045, 2050, 2055, 2060, 2065, 2070, 2075, 2080, 2085, 2090, 2095, 2100, 2105, 2110, 2115, 2120, 2125, 2130, 2135, 2140, 2145, 2150, 2155, 2160, 2165, 2170, 2175, 2180, 2185, 2190, 2195, 2200, 2205, 2210, 2215, 2220, 2225, 2230, 2235, 2240, 2245, 2250, 2255, 2260, 2265, 2270, 2275, 2280, 2285, 2290, 2295, 2300, 2305, 2310, 2315, 2320, 2325, 2330, 2335, 2340, 2345, 2350, 2355, 2360, 2365, 2370, 2375, 2380, 2385, 2390, 2395, 2400, 2405, 2410, 2415, 2420, 2425, 2430, 2435, 2440, 2445, 2450, 2455, 2460, 2465, 2470, 2475, 2480, 2485, 2490, 2495, 2500, 2505, 2510, 2515, 2520, 2525, 2530, 2535, 2540, 2545, 2550, 2555, 2560, 2565, 2570, 2575, 2580, 2585, 2590, 2595, 2600, 2605, 2610, 2615, 2620, 2625, 2630, 2635, 2640, 2645, 2650, 2655, 2660, 2665, 2670, 2675, 2680, 2685, 2690, 2695, 2700, 2705, 2710, 2715, 2720, 2725, 2730, 2735, 2740, 2745, 2750, 2755, 2760, 2765, 2770, 2775, 2780, 2785, 2790, 2795, 2800, 2805, 2810, 2815, 2820, 2825, 2830, 2835, 2840, 2845, 2850, 2855, 2860, 2865, 2870, 2875, 2880, 2885, 2890, 2895, 2900, 2905, 2910, 2915, 2920, 2925, 2930, 2935, 2940, 2945, 2950, 2955, 2960, 2965, 2970, 2975, 2980, 2985, 2990, 2995, 3000, 3005, 3010, 3015, 3020, 3025, 3030, 3035, 3040, 3045, 3050, 3055, 3060, 3065, 3070, 3075, 3080, 3085, 3090, 3095, 3100, 3105, 3110, 3115, 3120, 3125, 3130, 3135, 3140, 3145, 3150, 3155, 3160, 3165, 3170, 3175, 3180, 3185, 3190, 3195, 3200, 3205, 3210, 3215, 3220, 3225, 3230, 3235, 3240, 3245, 3250, 3255, 3260, 3265, 3270, 3275, 3280, 3285, 3290, 3295, 3300, 3305, 3310, 3315, 3320, 3325, 3330, 3335, 3340, 3345, 3350, 3355, 3360, 3365, 3370, 3375, 3380, 3385, 3390, 3395, 3400, 3405, 3410, 3415, 3420, 3425, 3430, 3435, 3440, 3445, 3450, 3455, 3460, 3465, 3470, 3475, 3480, 3485, 3490, 3495, 3500, 3505, 3510, 3515, 3520, 3525, 3530, 3535, 3540, 3545, 3550, 3555, 3560, 3565, 3570, 3575, 3580, 3585, 3590, 3595, 3600, 3605, 3610, 3615, 3620, 3625, 3630, 3635, 3640, 3645, 3650, 3655, 3660, 3665, 3670, 3675, 3680, 3685, 3690, 3695, 3700, 3705, 3710, 3715, 3720, 3725, 3730, 3735, 3740, 3745, 3750, 3755, 3760, 3765, 3770, 3775, 3780, 3785, 3790, 3795, 3800, 3805, 3810, 3815, 3820, 3825, 3830, 3835, 3840, 3845, 3850, 3855, 3860, 3865, 3870, 3875, 3880, 3885, 3890, 3895, 3900, 3905, 3910, 3915, 3920, 3925, 3930, 3935, 3940, 3945]\n"
     ]
    }
   ],
   "source": [
    "x5 = []\n",
    "for i in range(54,3946):\n",
    "    if i%5==0:\n",
    "        x5.append(i)\n",
    "print(x5)"
   ]
  },
  {
   "cell_type": "markdown",
   "metadata": {},
   "source": [
    "#### Программа которая будет выводить все нечетные числа из диапазона от 39 до 248 и остановится если встретится 139"
   ]
  },
  {
   "cell_type": "code",
   "execution_count": 306,
   "metadata": {},
   "outputs": [
    {
     "name": "stdout",
     "output_type": "stream",
     "text": [
      "39\n",
      "41\n",
      "43\n",
      "45\n",
      "47\n",
      "49\n",
      "51\n",
      "53\n",
      "55\n",
      "57\n",
      "59\n",
      "61\n",
      "63\n",
      "65\n",
      "67\n",
      "69\n",
      "71\n",
      "73\n",
      "75\n",
      "77\n",
      "79\n",
      "81\n",
      "83\n",
      "85\n",
      "87\n",
      "89\n",
      "91\n",
      "93\n",
      "95\n",
      "97\n",
      "99\n",
      "101\n",
      "103\n",
      "105\n",
      "107\n",
      "109\n",
      "111\n",
      "113\n",
      "115\n",
      "117\n",
      "119\n",
      "121\n",
      "123\n",
      "125\n",
      "127\n",
      "129\n",
      "131\n",
      "133\n",
      "135\n",
      "137\n"
     ]
    }
   ],
   "source": [
    "for i in range(39,249):\n",
    "    if i != 139:\n",
    "        if i % 2 != 0:\n",
    "            print(i)\n",
    "    else:\n",
    "        break"
   ]
  },
  {
   "cell_type": "markdown",
   "metadata": {},
   "source": [
    "#### Дан список list = [11, 5, 8, 32, 15, 3, 20, 132, 21, 4, 555, 9, 20]. Необходимо вывести элементы, которые одновременно  меньше 30 и  делятся на 3 без остатка. Все остальные элементы списка необходимо просуммировать и вывести конечный результат.\n"
   ]
  },
  {
   "cell_type": "code",
   "execution_count": 307,
   "metadata": {},
   "outputs": [
    {
     "name": "stdout",
     "output_type": "stream",
     "text": [
      "15\n",
      "3\n",
      "21\n",
      "9\n",
      "787\n"
     ]
    }
   ],
   "source": [
    "list = [11,5,8,32,15,3,20,132,21,4,555,9,20]\n",
    "sum=0\n",
    "\n",
    "for i in list:\n",
    "    if i < 30 and i%3==0:\n",
    "        print(i)\n",
    "    else:\n",
    "        sum += i\n",
    "print(sum)"
   ]
  },
  {
   "cell_type": "markdown",
   "metadata": {},
   "source": [
    "#### Напишите программу, которая будет по номеру месяца выводить время года. Например, если введено 2, то следует вывести «Зима».\n"
   ]
  },
  {
   "cell_type": "code",
   "execution_count": 308,
   "metadata": {},
   "outputs": [
    {
     "name": "stdout",
     "output_type": "stream",
     "text": [
      "введи номер месяца:3\n",
      "fall\n"
     ]
    }
   ],
   "source": [
    "winter = [1,2,12]\n",
    "fall = [3,4,5]\n",
    "summer = [6,7,8]\n",
    "autumn = [9,10,11]\n",
    "\n",
    "number = int(input('введи номер месяца:'))\n",
    "if number > 0 and number <= 12:\n",
    "    if number in winter:\n",
    "        print('winter')\n",
    "    elif number in fall:\n",
    "        print('fall')\n",
    "    elif number in summer:\n",
    "        print('summer')\n",
    "    elif number in autumn:\n",
    "        print('autumn')\n",
    "else:\n",
    "    print('Неверное число!')\n"
   ]
  },
  {
   "cell_type": "markdown",
   "metadata": {},
   "source": [
    "#### Выведите все числа от 0 до N, где \n",
    "\n",
    "N=66\n",
    "N= –31\n"
   ]
  },
  {
   "cell_type": "code",
   "execution_count": 315,
   "metadata": {},
   "outputs": [
    {
     "name": "stdout",
     "output_type": "stream",
     "text": [
      "0\n",
      "1\n",
      "2\n",
      "3\n",
      "4\n",
      "5\n",
      "6\n",
      "7\n",
      "8\n",
      "9\n",
      "10\n",
      "11\n",
      "12\n",
      "13\n",
      "14\n",
      "15\n",
      "16\n",
      "17\n",
      "18\n",
      "19\n",
      "20\n",
      "21\n",
      "22\n",
      "23\n",
      "24\n",
      "25\n",
      "26\n",
      "27\n",
      "28\n",
      "29\n",
      "30\n",
      "31\n",
      "32\n",
      "33\n",
      "34\n",
      "35\n",
      "36\n",
      "37\n",
      "38\n",
      "39\n",
      "40\n",
      "41\n",
      "42\n",
      "43\n",
      "44\n",
      "45\n",
      "46\n",
      "47\n",
      "48\n",
      "49\n",
      "50\n",
      "51\n",
      "52\n",
      "53\n",
      "54\n",
      "55\n",
      "56\n",
      "57\n",
      "58\n",
      "59\n",
      "60\n",
      "61\n",
      "62\n",
      "63\n",
      "64\n",
      "65\n",
      "66\n",
      "0\n",
      "-1\n",
      "-2\n",
      "-3\n",
      "-4\n",
      "-5\n",
      "-6\n",
      "-7\n",
      "-8\n",
      "-9\n",
      "-10\n",
      "-11\n",
      "-12\n",
      "-13\n",
      "-14\n",
      "-15\n",
      "-16\n",
      "-17\n",
      "-18\n",
      "-19\n",
      "-20\n",
      "-21\n",
      "-22\n",
      "-23\n",
      "-24\n",
      "-25\n",
      "-26\n",
      "-27\n",
      "-28\n",
      "-29\n",
      "-30\n",
      "-31\n"
     ]
    }
   ],
   "source": [
    "def alln(n,c=1):\n",
    "    if n<0:\n",
    "        n *= -1\n",
    "    for i in range(0,n+1):\n",
    "        print(i*c)\n",
    "\n",
    "#n = 66\n",
    "#for i in range(0,n+1):\n",
    "#    print(i)\n",
    "\n",
    "#n = -31\n",
    "#if n < 0:\n",
    "#    n *= -1\n",
    "\n",
    "#for i in range (0,n+1):\n",
    " #   print(i*(-1))\n",
    "alln(66)\n",
    "alln(-31,-1)"
   ]
  },
  {
   "cell_type": "markdown",
   "metadata": {},
   "source": [
    "#### Вывести последовательность Фибоначчи, где каждое следующие число равно сумме двух предыдущих (1, 1, 2, 3, 5, 8, 13, 21 …), пока новое значение не превысит 444.\n"
   ]
  },
  {
   "cell_type": "code",
   "execution_count": 318,
   "metadata": {},
   "outputs": [
    {
     "name": "stdout",
     "output_type": "stream",
     "text": [
      "1\n",
      "2\n",
      "3\n",
      "5\n",
      "8\n",
      "13\n",
      "21\n",
      "34\n",
      "55\n",
      "89\n",
      "144\n",
      "233\n",
      "377\n",
      "610\n"
     ]
    }
   ],
   "source": [
    "num1 = 0\n",
    "num2 = 1\n",
    "while num2<=444:\n",
    "    sum = num1 + num2\n",
    "    num1 = num2\n",
    "    num2 = sum\n",
    "    print(sum)"
   ]
  },
  {
   "cell_type": "markdown",
   "metadata": {},
   "source": [
    "#### В первый день спортсмен пробежал 10 км, каждый следующий день он увеличивал дистанцию на 20% от дистанции предыдущего дня. Определите, после какого дня суммарный пробег за все дни превысит 500 км и выведите этот пробег.\n"
   ]
  },
  {
   "cell_type": "code",
   "execution_count": 319,
   "metadata": {},
   "outputs": [
    {
     "name": "stdout",
     "output_type": "stream",
     "text": [
      "23 days\n"
     ]
    }
   ],
   "source": [
    "start = 10\n",
    "days = 1\n",
    "while start <= 500:\n",
    "    start = start + start*20/100\n",
    "    days += 1\n",
    "print(days,'days')"
   ]
  },
  {
   "cell_type": "markdown",
   "metadata": {},
   "source": [
    "#### Найдите все трёхзначные и четырёхзначные числа Армстронга. Числом Армстронга считается натуральное число, сумма цифр которого, возведенных в N-ную степень (N – количество цифр в числе) равна самому числу.\n"
   ]
  },
  {
   "cell_type": "code",
   "execution_count": 231,
   "metadata": {},
   "outputs": [
    {
     "name": "stdout",
     "output_type": "stream",
     "text": [
      "153\n",
      "370\n",
      "371\n",
      "407\n",
      "1634\n",
      "8208\n",
      "9474\n"
     ]
    }
   ],
   "source": [
    "def arm(num):\n",
    "    num_sum = 0\n",
    "    n = len(str(num))\n",
    "    while num:\n",
    "        num_sum += (num % 10) ** n\n",
    "        num //= 10\n",
    "    return num_sum\n",
    "\n",
    "\n",
    "for num in range(100, 10000):\n",
    "    if num == arm(num):\n",
    "        print(num)"
   ]
  },
  {
   "cell_type": "markdown",
   "metadata": {},
   "source": [
    "#### Написать программу для рисования горки. На вход подать 2 числа. 1 число – количество * в 1 ряду горки. 2 число – высота горки."
   ]
  },
  {
   "cell_type": "code",
   "execution_count": 242,
   "metadata": {},
   "outputs": [
    {
     "name": "stdout",
     "output_type": "stream",
     "text": [
      "a:2\n",
      "b:3\n",
      "   **        \n",
      "  ****     \n",
      " ******  \n"
     ]
    }
   ],
   "source": [
    "a = int(input('a:'))\n",
    "b = int(input('b:'))\n",
    "for i in range(b):\n",
    "    print(' '*(((a*b)-a*(int(i)+1))//2),'*'*a*(int(i)+1),' '*((a*b)-a*(int(i)+1)),' '*(((a*b)-a*(int(i)+1))//2))"
   ]
  },
  {
   "cell_type": "markdown",
   "metadata": {},
   "source": [
    "#### Написать программу для рисования горки. На вход подать 2 числа. 1число – шаг горки. 2 число – высота горки.\n"
   ]
  },
  {
   "cell_type": "code",
   "execution_count": 291,
   "metadata": {},
   "outputs": [
    {
     "name": "stdout",
     "output_type": "stream",
     "text": [
      "a:2\n",
      "b:3\n",
      "    **    \n",
      "  ******  \n",
      " ********** \n"
     ]
    }
   ],
   "source": [
    "a = int(input('a:'))\n",
    "b = int(input('b:'))\n",
    "sym = '*'*a\n",
    "for i in range(b):\n",
    "    print(' '*(a**(b-1-i))+sym*i+sym+sym*i+' '*(a**(b-1-i)))"
   ]
  }
 ],
 "metadata": {
  "kernelspec": {
   "display_name": "Python 3",
   "language": "python",
   "name": "python3"
  },
  "language_info": {
   "codemirror_mode": {
    "name": "ipython",
    "version": 3
   },
   "file_extension": ".py",
   "mimetype": "text/x-python",
   "name": "python",
   "nbconvert_exporter": "python",
   "pygments_lexer": "ipython3",
   "version": "3.8.5"
  }
 },
 "nbformat": 4,
 "nbformat_minor": 4
}
